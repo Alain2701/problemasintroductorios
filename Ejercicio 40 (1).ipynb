{
 "cells": [
  {
   "cell_type": "code",
   "execution_count": 10,
   "metadata": {},
   "outputs": [
    {
     "name": "stdout",
     "output_type": "stream",
     "text": [
      "2.5\n",
      "32\n",
      "Total\n",
      "80.0\n"
     ]
    }
   ],
   "source": [
    "# Una pulgada equivale a 2.5 cm., calcular el numero de cm en 32 pulgadas.\n",
    "\n",
    "c1 = 2.5\n",
    "print(c1)\n",
    "\n",
    "p2 = 32\n",
    "print(p2)\n",
    "\n",
    "x = \"Total\"\n",
    "print(x)\n",
    "\n",
    "y = c1*p2\n",
    "print(y)"
   ]
  },
  {
   "cell_type": "code",
   "execution_count": null,
   "metadata": {},
   "outputs": [],
   "source": []
  }
 ],
 "metadata": {
  "kernelspec": {
   "display_name": "Python 3",
   "language": "python",
   "name": "python3"
  },
  "language_info": {
   "codemirror_mode": {
    "name": "ipython",
    "version": 3
   },
   "file_extension": ".py",
   "mimetype": "text/x-python",
   "name": "python",
   "nbconvert_exporter": "python",
   "pygments_lexer": "ipython3",
   "version": "3.6.4"
  }
 },
 "nbformat": 4,
 "nbformat_minor": 2
}
