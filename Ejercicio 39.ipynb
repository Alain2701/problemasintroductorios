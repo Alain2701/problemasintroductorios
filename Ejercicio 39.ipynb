{
 "cells": [
  {
   "cell_type": "code",
   "execution_count": 6,
   "metadata": {},
   "outputs": [
    {
     "name": "stdout",
     "output_type": "stream",
     "text": [
      "- El maximo es:\n",
      "53\n"
     ]
    }
   ],
   "source": [
    "# Dados diez enteros, imprimir solo el mayor. No suponer que los numeros estan enlista-dos en los datos de un orden especial. \n",
    "lista=[44,11,15,29,53,12,30,32,11,36]\n",
    "maximo=0\n",
    "# IMPLEMENTAR\n",
    "for i in range(10):\n",
    "    if lista[i]>maximo:\n",
    "        maximo=lista[i]\n",
    "# debe imprimir 53\n",
    "print(\"- El maximo es:\")\n",
    "print(maximo)"
   ]
  }
 ],
 "metadata": {
  "kernelspec": {
   "display_name": "Python 3",
   "language": "python",
   "name": "python3"
  },
  "language_info": {
   "codemirror_mode": {
    "name": "ipython",
    "version": 3
   },
   "file_extension": ".py",
   "mimetype": "text/x-python",
   "name": "python",
   "nbconvert_exporter": "python",
   "pygments_lexer": "ipython3",
   "version": "3.6.4"
  }
 },
 "nbformat": 4,
 "nbformat_minor": 2
}
