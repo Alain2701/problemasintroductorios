{
 "cells": [
  {
   "cell_type": "code",
   "execution_count": 1,
   "metadata": {},
   "outputs": [
    {
     "name": "stdout",
     "output_type": "stream",
     "text": [
      "78\n",
      "175\n",
      "13650\n"
     ]
    }
   ],
   "source": [
    "# 12 valores de A y 10 valores de B\n",
    "\n",
    "\n",
    "a1 = int(input('A1='))\n",
    "a2 = int(input('A2='))\n",
    "a3 = int(input('A3='))\n",
    "a4 = int(input('A4='))\n",
    "a5 = int(input('A5='))\n",
    "a6 = int(input('A6='))\n",
    "a7 = int(input('A7='))\n",
    "a8 = int(input('A8='))\n",
    "a9 = int(input('A9='))\n",
    "a10 = int(input('A10='))\n",
    "a11 = int(input('A11='))\n",
    "a12 = int(input('A12='))\n",
    "\n",
    "b1 = int(input('B1='))\n",
    "b2 = int(input('B2='))\n",
    "b3 = int(input('B3='))\n",
    "b4 = int(input('B4='))\n",
    "b5 = int(input('B5='))\n",
    "b6 = int(input('B6='))\n",
    "b7 = int(input('B7='))\n",
    "b8 = int(input('B8='))\n",
    "b9 = int(input('B9='))\n",
    "b10 = int(input('B10='))\n",
    "\n",
    "TA=a1+a2+a3+a4+a5+a6+a7+a8+a9+a10+a11+a12\n",
    "\n",
    "TB=b1+b2+b3+b4+b5+b6+b7+b8+b9+b10\n",
    "\n",
    "MAB=TA*TB\n",
    "\n",
    "print(TA)\n",
    "print(TB)\n",
    "print(MAB)"
   ]
  },
  {
   "cell_type": "code",
   "execution_count": null,
   "metadata": {},
   "outputs": [],
   "source": []
  },
  {
   "cell_type": "code",
   "execution_count": null,
   "metadata": {},
   "outputs": [],
   "source": []
  },
  {
   "cell_type": "code",
   "execution_count": null,
   "metadata": {},
   "outputs": [],
   "source": []
  }
 ],
 "metadata": {
  "kernelspec": {
   "display_name": "Python 3",
   "language": "python",
   "name": "python3"
  },
  "language_info": {
   "codemirror_mode": {
    "name": "ipython",
    "version": 3
   },
   "file_extension": ".py",
   "mimetype": "text/x-python",
   "name": "python",
   "nbconvert_exporter": "python",
   "pygments_lexer": "ipython3",
   "version": "3.6.4"
  }
 },
 "nbformat": 4,
 "nbformat_minor": 2
}
