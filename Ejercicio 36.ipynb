{
 "cells": [
  {
   "cell_type": "code",
   "execution_count": null,
   "metadata": {},
   "outputs": [],
   "source": [
    "# Calcular z de acuerdo con la formula siguiente.\n",
    "# Asignar las variables numericas aprobadas.\n",
    "\n",
    "\n",
    "a = 4\n",
    "b = 6\n",
    "x = 8\n",
    "y = 2\n",
    "c = 5 \n",
    "print(\"Z=\")\n",
    "print((a+b)**3-(x+y)**2*(a-c)**4+0.5*(c+x))"
   ]
  }
 ],
 "metadata": {
  "kernelspec": {
   "display_name": "Python 3",
   "language": "python",
   "name": "python3"
  },
  "language_info": {
   "codemirror_mode": {
    "name": "ipython",
    "version": 3
   },
   "file_extension": ".py",
   "mimetype": "text/x-python",
   "name": "python",
   "nbconvert_exporter": "python",
   "pygments_lexer": "ipython3",
   "version": "3.6.4"
  }
 },
 "nbformat": 4,
 "nbformat_minor": 2
}
